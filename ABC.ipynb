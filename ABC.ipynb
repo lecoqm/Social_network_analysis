{
 "cells": [
  {
   "cell_type": "markdown",
   "metadata": {},
   "source": [
    "# Méthode ABC\n",
    "\n",
    "On compare les résultats obtenus avec les résultats obtenus par la méthode ABC (en 2 dimensions). Cette méthode est normalement utilisé losqu'il n'est pas possible de calculer la vraissemblance, ce qui n'est pas le cas ici.\n",
    "\n",
    "On suppose les lois priors suivantes (comme pour le MCMC) :\n",
    "- Pour $\\alpha$ : $Exp(2)$\n",
    "- Pour $Z$ : $\\mathcal{N}(0, 10*I_{2*n})$, (avec $n$ le nombre de point)"
   ]
  },
  {
   "cell_type": "code",
   "execution_count": 24,
   "metadata": {},
   "outputs": [],
   "source": [
    "import numpy as np \n",
    "import matplotlib.pyplot as plt\n",
    "from scipy.spatial import distance_matrix\n",
    "\n",
    "np.random.seed(0)\n",
    "\n",
    "data = np.loadtxt(\"data/Florentine_families.csv\", delimiter=\",\") # importe matrice\n",
    "n = np.shape(data)[0]  # = 15"
   ]
  },
  {
   "cell_type": "markdown",
   "metadata": {},
   "source": [
    "On réalise donc l'algorithme suivant :\n",
    "\n",
    "__Entrée__ : $Y^*$: données, N : nombre d'itérations, $\\epsilon$: seuil\n",
    "\n",
    "Sur mille itération : $\\newline$\n",
    "$\\ \\ $ Tant que $\\|\\overset{-}{Y}-Y^*\\|_1>\\epsilon$ : $\\newline$\n",
    "$\\ \\ \\ \\ \\ $ Tirer $\\alpha$ et $Z$ selon le prior $\\newline$\n",
    "$\\ \\ \\ \\ \\ $ Générer 10 $Y$ selon les $\\alpha$ et $Z$ tirés $\\newline$\n",
    "$\\ \\ \\ \\ \\ $ Poser : $\\overset{-}{Y} = \\frac{1}{n} \\overset{10}{\\underset{i=1}\\sum} Y_i$\n",
    "\n",
    "Pour la suite, on prendra :\n",
    "- $\\epsilon = 6$\n",
    "- $N = 1 000$"
   ]
  },
  {
   "cell_type": "code",
   "execution_count": 25,
   "metadata": {},
   "outputs": [
    {
     "name": "stdout",
     "output_type": "stream",
     "text": [
      "0\n",
      "1\n",
      "2\n",
      "3\n",
      "4\n",
      "5\n",
      "6\n",
      "7\n",
      "8\n",
      "9\n"
     ]
    }
   ],
   "source": [
    "N = 10\n",
    "EPSILON = 45\n",
    "\n",
    "def generer_Y(alpha:float, Z:np.matrix) -> np.matrix:\n",
    "    \"\"\"\n",
    "    Cette fonction génère Y selon les lois de probabilité données dans l'article\n",
    "    \"\"\"\n",
    "    D = distance_matrix(Z, Z)\n",
    "    Y = np.zeros(data.shape)\n",
    "    for i in range(Y.shape[0]):\n",
    "        for j in range(Y.shape[0]):\n",
    "            if i!=j:\n",
    "                proba = np.exp(alpha-D[i][j])/(1+np.exp(alpha-D[i][j]))\n",
    "                if np.random.random()<proba:\n",
    "                    Y[i][j] = 1\n",
    "    return Y\n",
    "\n",
    "def generer(data: np.matrix) -> tuple[float, float, np.matrix]:\n",
    "    \"\"\"\n",
    "    Cette fonction génère un nouveau alpha et Z selon le prior et les renvoie \n",
    "    ainsi que la variable test qui détermine l'acceptation.\n",
    "    \"\"\"\n",
    "    alpha = np.random.exponential(2)\n",
    "    Z = np.zeros((data.shape[0],2))\n",
    "    for n in range(Z.shape[0]):\n",
    "        Z[n] = np.random.multivariate_normal(\n",
    "            [0 for _ in range(2)], 10 ** (1 / 2) * np.identity(2))\n",
    "    \n",
    "    Y_liste = []\n",
    "    for i in range(10):\n",
    "        Y_liste.append(generer_Y(alpha, Z))\n",
    "    Y = np.sum(np.array(Y_liste), axis=0) / 10\n",
    "    # print(Y)\n",
    "    test = np.sum(abs(Y-data))\n",
    "    return test, alpha, Z\n",
    "\n",
    "\n",
    "alpha_liste = []\n",
    "Z_liste = []\n",
    "for _ in range (N):\n",
    "    test, alpha, Z = generer(data)\n",
    "    while test>EPSILON :\n",
    "        test, alpha, Z = generer(data)\n",
    "    alpha_liste.append(alpha)\n",
    "    Z_liste.append(Z)"
   ]
  },
  {
   "cell_type": "markdown",
   "metadata": {},
   "source": [
    "On remarque que cet algorithme est très long. (Une minute pour dix valeures, alors qu'il en faudrait des milliers), et alors que la valeur de $\\epsilon$ est trop élevée, en effet on obtient les $\\alpha$ suivant :"
   ]
  },
  {
   "cell_type": "code",
   "execution_count": 27,
   "metadata": {},
   "outputs": [
    {
     "name": "stdout",
     "output_type": "stream",
     "text": [
      "[0.06797722227501526, 0.22552152808300815, 0.01811442390728763, 0.2245716474677837, 0.09454727224343484, 0.13913100198057288, 0.05619803353420316, 0.1077754554484317, 0.20510135158694115, 0.3294137264808897]\n"
     ]
    }
   ],
   "source": [
    "print(alpha_liste)"
   ]
  }
 ],
 "metadata": {
  "kernelspec": {
   "display_name": "Python 3",
   "language": "python",
   "name": "python3"
  },
  "language_info": {
   "codemirror_mode": {
    "name": "ipython",
    "version": 3
   },
   "file_extension": ".py",
   "mimetype": "text/x-python",
   "name": "python",
   "nbconvert_exporter": "python",
   "pygments_lexer": "ipython3",
   "version": "3.11.2"
  }
 },
 "nbformat": 4,
 "nbformat_minor": 2
}
