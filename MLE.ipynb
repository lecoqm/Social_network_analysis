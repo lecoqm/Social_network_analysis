{
 "cells": [
  {
   "cell_type": "markdown",
   "metadata": {},
   "source": [
    "# MLE\n",
    "\n",
    "Le but du MLE est de trouver une première aproximation des points. Cependant cette aproximation tend à trop coller aux données du modèle.\n",
    "\n",
    "On importe les bibliothèques :"
   ]
  },
  {
   "cell_type": "code",
   "execution_count": 2,
   "metadata": {},
   "outputs": [
    {
     "name": "stdout",
     "output_type": "stream",
     "text": [
      "Requirement already satisfied: numpy in c:\\users\\mathi\\appdata\\local\\programs\\python\\python311\\lib\\site-packages (1.24.2)\n"
     ]
    },
    {
     "name": "stderr",
     "output_type": "stream",
     "text": [
      "\n",
      "[notice] A new release of pip available: 22.3.1 -> 24.0\n",
      "[notice] To update, run: python.exe -m pip install --upgrade pip\n"
     ]
    },
    {
     "name": "stdout",
     "output_type": "stream",
     "text": [
      "Requirement already satisfied: cvxpy in c:\\users\\mathi\\appdata\\local\\programs\\python\\python311\\lib\\site-packages (1.4.3)\n",
      "Requirement already satisfied: osqp>=0.6.2 in c:\\users\\mathi\\appdata\\local\\programs\\python\\python311\\lib\\site-packages (from cvxpy) (0.6.5)\n",
      "Requirement already satisfied: ecos>=2 in c:\\users\\mathi\\appdata\\local\\programs\\python\\python311\\lib\\site-packages (from cvxpy) (2.0.13)\n",
      "Requirement already satisfied: clarabel>=0.5.0 in c:\\users\\mathi\\appdata\\local\\programs\\python\\python311\\lib\\site-packages (from cvxpy) (0.7.1)\n",
      "Requirement already satisfied: scs>=3.0 in c:\\users\\mathi\\appdata\\local\\programs\\python\\python311\\lib\\site-packages (from cvxpy) (3.2.4.post1)\n",
      "Requirement already satisfied: numpy>=1.15 in c:\\users\\mathi\\appdata\\local\\programs\\python\\python311\\lib\\site-packages (from cvxpy) (1.24.2)\n",
      "Requirement already satisfied: scipy>=1.1.0 in c:\\users\\mathi\\appdata\\local\\programs\\python\\python311\\lib\\site-packages (from cvxpy) (1.11.4)\n",
      "Requirement already satisfied: pybind11 in c:\\users\\mathi\\appdata\\local\\programs\\python\\python311\\lib\\site-packages (from cvxpy) (2.12.0)\n",
      "Requirement already satisfied: qdldl in c:\\users\\mathi\\appdata\\local\\programs\\python\\python311\\lib\\site-packages (from osqp>=0.6.2->cvxpy) (0.1.7.post2)\n"
     ]
    },
    {
     "name": "stderr",
     "output_type": "stream",
     "text": [
      "\n",
      "[notice] A new release of pip available: 22.3.1 -> 24.0\n",
      "[notice] To update, run: python.exe -m pip install --upgrade pip\n"
     ]
    }
   ],
   "source": [
    "!py -m pip install numpy\n",
    "import numpy as np"
   ]
  },
  {
   "cell_type": "markdown",
   "metadata": {},
   "source": [
    "Comme montrer dans l'article, pour déterminer la distance, on n'est pas forcé de prendre la distance euclidienne. On peut prendre comme distance le plus court chemin entre chaque famille i et j.\n",
    "\n",
    "Pour cela on définie les matrices $(Y_r)_{r = 1,...,n}$ ($n$ : nombre de famille) tel que : \n",
    "\n",
    "$Y_1 = Y$ ($Y$ notre matrice d'adjacence initiale) $\\\\$\n",
    "$Y_{r+1} = Y_r.Y$\n",
    "\n",
    "On a alors :\n",
    "\n",
    "$Y_r[i,j]>0$ ssi il existe un chemin de taille r entre i et j. En effet : \n",
    "\n",
    "$$Y_r[i,j]>0 \\iff \\overset{n}{\\underset{k=1}{\\sum}} Y_r[i,k].Y[k,j]>0$$\n",
    "$$Y_r[i,j]>0 \\iff \\exist k \\in \\{1,...,n\\} Y_r[i,k].Y[k,j]>0$$ \n",
    "(On a même $Y_r[i,j]$ qui nous donne le nombre de chemin de taille $r$ entre i et j, mais nous ne sommes intéressé que par l'existance d'un chemin).\n",
    "\n",
    "On peut ensuite en déduire notre matrice des distances : \n",
    "$$D[i,j]=min \\left\\{ min \\left\\{ r, Y_r[i,j]>0\\right\\}, n \\right\\}$$"
   ]
  },
  {
   "cell_type": "code",
   "execution_count": null,
   "metadata": {},
   "outputs": [],
   "source": [
    "def distance(Y):\n",
    "    \"\"\"\n",
    "    Calcule la distance entre les noeuds comme le nombre minimal\n",
    "    d'arêtes entre les noeuds\n",
    "    (renvoie n=nombre de sommets si pas de lien)\n",
    "    \"\"\"\n",
    "    n = np.shape(Y)[0]\n",
    "    # On détermine notre Y_{1}\n",
    "    Yr = np.copy(Y)\n",
    "    # On modifie progressivement notre distance : on a déjà les noeuds à distance de 1 les uns des autres\n",
    "    D = np.copy(Y)\n",
    "    D = Y * (Y == 1) + n * (Y == 0)\n",
    "    for r in range(2, n):\n",
    "        # On détermine notre Y_{r+1}\n",
    "        Yr = np.dot(Yr, Y)\n",
    "        # On modifie notre distance pour les paires de noeuds n'ayant pas de distance plus courte\n",
    "        D += (r - n) * ((Yr > 0) & (D == n))\n",
    "    # On met bien des 0 sur la diagonale de D\n",
    "    np.fill_diagonal(D, 0)\n",
    "    return D"
   ]
  },
  {
   "cell_type": "markdown",
   "metadata": {},
   "source": [
    "On peut ensuite déterminer une fonction nous donnant un nuage de point dans $\\mathbb{R}^k$ tel que les points collent au plus aux distance grâce à la fonction `svd` du module `numpy.linalg` :"
   ]
  },
  {
   "cell_type": "code",
   "execution_count": null,
   "metadata": {},
   "outputs": [],
   "source": [
    "def MLE(Y, k=2):\n",
    "    D = distance(Y)\n",
    "    Z = np.linalg.svd(D)[0][:, :k] # à changer\n",
    "    # On vérifie que les points sont biens centrés ?\n",
    "    return Z"
   ]
  }
 ],
 "metadata": {
  "kernelspec": {
   "display_name": "Python 3",
   "language": "python",
   "name": "python3"
  },
  "language_info": {
   "codemirror_mode": {
    "name": "ipython",
    "version": 3
   },
   "file_extension": ".py",
   "mimetype": "text/x-python",
   "name": "python",
   "nbconvert_exporter": "python",
   "pygments_lexer": "ipython3",
   "version": "3.11.2"
  }
 },
 "nbformat": 4,
 "nbformat_minor": 2
}
