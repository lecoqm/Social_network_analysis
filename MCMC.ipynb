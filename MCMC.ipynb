{
 "cells": [
  {
   "cell_type": "markdown",
   "metadata": {},
   "source": [
    "# Algorithme MCMC\n",
    "\n",
    "Une fois obtenu le MLE, nous utilisons un un algorithme de Monte-Carlo pour affiner le résultat : \n",
    "1) On pose $Z_0 = Z_{MLE}$ et $\\alpha_0 \\sim Exp(\\lambda)$\n",
    "2) On tire $\\overset{-}{Z}_{k+1} \\sim \\mathcal{N}(Z_k, \\sigma^2 I_{n.k})$ ($n$ taille de Z, $k$ dimension des points)\n",
    "3) On réalise la transformation procustéenne : $\\overset{\\sim}{Z} = \\underset{T}{argmin}\\ tr \\left[\\left(\n",
    "Z_0-T \\overset{-}{Z}_{k+1}\\right)^t \\left( Z_0-T \\overset{-}{Z}_{k+1}\\right) \\right] $ (T est une opération combinant la translation, la rotation et la symétrie).\n",
    "4) On accepte $\\overset{\\sim}{Z}_{k+1}$ en tant  que $Z_{k+1}$ avec probilité $max \\left\\{1, \\frac{\\mathbb{P}(Y|\\overset{\\sim}{Z}_{k+1}, \\alpha)}{\\mathbb{P}(Y|Z_k, \\alpha)} \\frac{\\pi_1(\\overset{\\sim}{Z})}{\\pi_1(Z_k)} \\right\\}$, sinon on pose $Z_{k+1}=Z_k$.\n",
    "5) On tire $\\overset{\\sim}{\\alpha} \\sim Exp(\\lambda)$ (on ne peut tirer selon une loi normale centrée en $\\alpha$ au risque d'avoir un $\\alpha$ négatif.)\n",
    "6) On accepte $\\overset{\\sim}{\\alpha}$ en tant  que $\\alpha_{k+1}$ avec probilité $max \\left\\{1, \\frac{\\mathbb{P}(Y|Z_{k+1}, \\overset{\\sim}{\\alpha)}}{\\mathbb{P}(Y|Z_{k+1}, \\alpha)} \\frac{\\pi_2(\\overset{\\sim}{\\alpha})}{\\pi_2(\\alpha_k)} \\right\\}$, sinon on pose $\\alpha_{k+1}=\\alpha_k$\n",
    "\n",
    "_L'étape 3 (la transformation procustéenne) est nécessaire car notre modèle ne tient compte que des distances. Donc pour un nuage de point donnée, tout nuage de point obtenu par translation, rotation ou symétrie de ce nuage de point donne les mêmes résultats. Comme on veut s'assurer de la bonne convergence du modèle, on force les nouveaux points obtenus à être le plus proche du nuage de point initial via ces transformations. Cependant, on ne fait pas de mise à l'échelle contrairement à ce qui peut se faire dans d'autres transformations procustéenne, car on modifierait alors la distance._\n",
    "\n",
    "On prendra pour loi $\\pi_1$ une loi normale centrée, de variance suffisament grande, et pour loi $\\pi_2$ une loi normale exponentielle, de paramètre 2, ce paramètre permettant de ne pas d'avoir d'$\\alpha$ trop petit ou trop grand.\n",
    "\n",
    "On importe les bibliothèques et les variables nécessaires :"
   ]
  },
  {
   "cell_type": "code",
   "execution_count": 3,
   "metadata": {},
   "outputs": [
    {
     "name": "stdout",
     "output_type": "stream",
     "text": [
      "Requirement already satisfied: numpy in c:\\users\\mathi\\appdata\\local\\programs\\python\\python311\\lib\\site-packages (1.24.2)"
     ]
    },
    {
     "name": "stderr",
     "output_type": "stream",
     "text": [
      "\n",
      "[notice] A new release of pip available: 22.3.1 -> 24.0\n",
      "[notice] To update, run: python.exe -m pip install --upgrade pip\n"
     ]
    },
    {
     "name": "stdout",
     "output_type": "stream",
     "text": [
      "\n",
      "Requirement already satisfied: scipy in c:\\users\\mathi\\appdata\\local\\programs\\python\\python311\\lib\\site-packages (1.11.4)\n",
      "Requirement already satisfied: numpy<1.28.0,>=1.21.6 in c:\\users\\mathi\\appdata\\local\\programs\\python\\python311\\lib\\site-packages (from scipy) (1.24.2)\n"
     ]
    },
    {
     "name": "stderr",
     "output_type": "stream",
     "text": [
      "\n",
      "[notice] A new release of pip available: 22.3.1 -> 24.0\n",
      "[notice] To update, run: python.exe -m pip install --upgrade pip\n"
     ]
    }
   ],
   "source": [
    "!py -m pip install numpy\n",
    "!py -m pip install scipy\n",
    "import numpy as np\n",
    "from scipy.linalg import orthogonal_procrustes\n",
    "\n",
    "from MLE import MLE\n",
    "\n",
    "np.random.seed(0)\n",
    "\n",
    "data = np.loadtxt(\"data/Florentine_families.csv\", delimiter=\",\")\n",
    "n = np.shape(data)[0]  # = 15\n",
    "\n",
    "DIMENSIONS = 2\n",
    "SIGMA = 100\n",
    "LAMBDA = 2"
   ]
  },
  {
   "cell_type": "markdown",
   "metadata": {},
   "source": [
    "On définit les lois $\\pi_1$ et $\\pi_2$ :"
   ]
  },
  {
   "cell_type": "code",
   "execution_count": 6,
   "metadata": {},
   "outputs": [],
   "source": [
    "def pi_1(Z: np.matrix, sigma: float = SIGMA) -> float:\n",
    "    \"\"\"\n",
    "    Renvoie le Log de la loi a priori de Z (a une constante pres)\n",
    "    \"\"\"\n",
    "    return -np.linalg.norm(Z) / (2 * sigma**2)\n",
    "\n",
    "\n",
    "def pi_2(alpha: float, lambd: float = LAMBDA) -> float:\n",
    "    \"\"\"\n",
    "    Renvoie le Log de la loi a priori de alpha (a une constante pres)\n",
    "    \"\"\"\n",
    "    return -lambd * alpha"
   ]
  },
  {
   "cell_type": "markdown",
   "metadata": {},
   "source": [
    "On définie le log de la probabilité d'acceptation :"
   ]
  },
  {
   "cell_type": "code",
   "execution_count": 7,
   "metadata": {},
   "outputs": [],
   "source": [
    "def test_Z(\n",
    "    alpha: float, Z_tilde: np.matrix, Z: np.matrix, Y: np.matrix, sigma: float = SIGMA\n",
    ") -> float:\n",
    "    \"\"\"\n",
    "    Renvoie la probabilite d'acceptation pour Z\n",
    "    \"\"\"\n",
    "    log_prob = 0\n",
    "    for i in range(n):\n",
    "        for j in range(n):\n",
    "            if i == j:\n",
    "                continue\n",
    "            eta = alpha - np.linalg.norm(Z[i] - Z[j])\n",
    "            eta_tilde = alpha - np.linalg.norm(Z_tilde[i] - Z_tilde[j])\n",
    "            log_prob += (\n",
    "                Y[i][j] * eta_tilde\n",
    "                - np.log(1 + np.exp(eta_tilde))\n",
    "                - Y[i][j] * eta\n",
    "                - np.log(1 + np.exp(eta))\n",
    "            )\n",
    "        log_prob += pi_1(Z_tilde, sigma) - pi_1(Z, sigma)\n",
    "    return np.exp(log_prob)\n",
    "\n",
    "def test_alpha(\n",
    "    alpha_tilde: float, alpha: float, Z: np.matrix, Y: np.matrix, lambd: float = LAMBDA\n",
    ") -> float:\n",
    "    \"\"\"\n",
    "    Renvoie la probabilite d'acceptation pour alpha\n",
    "    \"\"\"\n",
    "    log_prob = 0\n",
    "    for i in range(n):\n",
    "        for j in range(n):\n",
    "            if i == j:\n",
    "                continue\n",
    "            eta = alpha - np.linalg.norm(Z[i] - Z[j])\n",
    "            eta_tilde = alpha_tilde - np.linalg.norm(Z[i] - Z[j])\n",
    "            log_prob += (\n",
    "                Y[i][j] * eta_tilde\n",
    "                - np.log(1 + np.exp(eta_tilde))\n",
    "                - Y[i][j] * eta\n",
    "                + np.log(1 + np.exp(eta))\n",
    "            )\n",
    "    log_prob += pi_2(alpha_tilde, lambd) - pi_2(alpha, lambd)\n",
    "    return np.exp(log_prob)"
   ]
  },
  {
   "cell_type": "markdown",
   "metadata": {},
   "source": [
    "On définie une fonction réalisant une étape de l'algorithme de Monte Carlo :"
   ]
  },
  {
   "cell_type": "code",
   "execution_count": 8,
   "metadata": {},
   "outputs": [],
   "source": [
    "def MCMC(\n",
    "    alpha: float,\n",
    "    Z: np.matrix,\n",
    "    Y: np.matrix,\n",
    "    pas1: float = 1,\n",
    "    pas2: float = 0.5,\n",
    "    lambd: float = LAMBDA,\n",
    "    sigma: float = SIGMA,\n",
    ") -> tuple[float, np.matrix]:\n",
    "    \"\"\"\n",
    "    Cette fonction prend un couple (alpha,Z), et renvoie un nouveau couple (alpha,Z).\n",
    "    Le nouveau Z est tire selon une loi normale centree en Z, de variance pas1**2. Puis accepte, avec pour prior\n",
    "    la loi normale centree, de variance sigma**2.\n",
    "    Le nouveau alpha est tire selon une loi normale centree en Z, de variance pas2**2. Puis accepte, avec pour prior\n",
    "    la loi exponentielle de parametre lambda.\n",
    "    \"\"\"\n",
    "    Z_tilde = Z + np.random.normal(0, pas1, size=Z.shape)\n",
    "    Z_tilde = Z_tilde - np.mean(Z_tilde, axis=0)\n",
    "    Omega, _ = orthogonal_procrustes(Z, Z_tilde)\n",
    "\n",
    "    Z_tilde = np.dot(Z_tilde, Omega)\n",
    "    alpha_tilde = abs(alpha + np.random.normal(0, pas2))\n",
    "\n",
    "    prob_Z = test_Z(alpha, Z_tilde, Z, Y, sigma)\n",
    "    if np.random.random() < prob_Z:\n",
    "        Z = Z_tilde\n",
    "\n",
    "    prob_alpha = test_alpha(alpha, alpha, Z, Y, lambd)  # = tout le temps 0 ??\n",
    "    if np.random.random() < prob_alpha:\n",
    "        alpha = alpha_tilde\n",
    "    return alpha, Z"
   ]
  }
 ],
 "metadata": {
  "kernelspec": {
   "display_name": "Python 3",
   "language": "python",
   "name": "python3"
  },
  "language_info": {
   "codemirror_mode": {
    "name": "ipython",
    "version": 3
   },
   "file_extension": ".py",
   "mimetype": "text/x-python",
   "name": "python",
   "nbconvert_exporter": "python",
   "pygments_lexer": "ipython3",
   "version": "3.11.2"
  }
 },
 "nbformat": 4,
 "nbformat_minor": 2
}
