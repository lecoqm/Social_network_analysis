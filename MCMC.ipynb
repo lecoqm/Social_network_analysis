{
 "cells": [
  {
   "cell_type": "markdown",
   "metadata": {},
   "source": [
    "# Algorithme MCMC\n",
    "\n",
    "Une fois obtenu le MLE, nous utilisons un un algorithme de Monte-Carlo pour affiner le résultat : \n",
    "1) On pose $Z_0 = Z_{MLE}$ et $\\alpha_0 \\sim Exp(\\lambda)$\n",
    "2) On tire $\\overset{-}{Z}_{k+1} \\sim \\mathcal{N}(Z_k, \\sigma^2 I_{n.k})$ ($n$ taille de Z, $k$ dimension des points)\n",
    "3) On réalise la transformation procustéenne : $\\overset{\\sim}{Z} = \\underset{T}{argmin}\\ tr \\left[\\left(\n",
    "Z_0-T \\overset{-}{Z}_{k+1}\\right)^t \\left( Z_0-T \\overset{-}{Z}_{k+1}\\right) \\right] $ (T est une opération combinant la translation, la rotation et la symétrie).\n",
    "4) On accepte $\\overset{\\sim}{Z}_{k+1}$ en tant  que $Z_{k+1}$ avec probilité $max \\left\\{1, \\frac{\\mathbb{P}(Y|\\overset{\\sim}{Z}_{k+1}, \\alpha)}{\\mathbb{P}(Y|Z_k, \\alpha)} \\frac{\\pi_1(\\overset{\\sim}{Z})}{\\pi_1(Z_k)} \\right\\}$, sinon on pose $Z_{k+1}=Z_k$.\n",
    "5) On tire $\\overset{\\sim}{\\alpha} \\sim Exp(\\lambda)$ (on ne peut tirer selon une loi normale centrée en $\\alpha$ au risque d'avoir un $\\alpha$ négatif.)\n",
    "6) On accepte $\\overset{\\sim}{\\alpha}$ en tant  que $\\alpha_{k+1}$ avec probilité $max \\left\\{1, \\frac{\\mathbb{P}(Y|Z_{k+1}, \\overset{\\sim}{\\alpha)}}{\\mathbb{P}(Y|Z_{k+1}, \\alpha)} \\frac{\\pi_2(\\overset{\\sim}{\\alpha})}{\\pi_2(\\alpha_k)} \\right\\}$, sinon on pose $\\alpha_{k+1}=\\alpha_k$\n",
    "\n",
    "_L'étape 3 (la transformation procustéenne) est nécessaire car notre modèle ne tient compte que des distances. Donc pour un nuage de point donnée, tout nuage de point obtenu par translation, rotation ou symétrie de ce nuage de point donne les mêmes résultats. Comme on veut s'assurer de la bonne convergence du modèle, on force les nouveaux points obtenus à être le plus proche du nuage de point initial via ces transformations. Cependant, on ne fait pas de mise à l'échelle contrairement à ce qui peut se faire dans d'autres transformations procustéenne, car on modifierait alors la distance._\n",
    "\n",
    "On prendra pour loi $\\pi_1$ une loi normale centrée, de variance suffisament grande, et pour loi $\\pi_2$ une loi normale exponentielle, de paramètre 2, ce paramètre permettant de ne pas d'avoir d'$\\alpha$ trop petit ou trop grand.\n",
    "\n",
    "On importe les bibliothèques :"
   ]
  },
  {
   "cell_type": "code",
   "execution_count": 2,
   "metadata": {},
   "outputs": [
    {
     "name": "stdout",
     "output_type": "stream",
     "text": [
      "Requirement already satisfied: numpy in c:\\users\\mathi\\appdata\\local\\programs\\python\\python311\\lib\\site-packages (1.24.2)\n"
     ]
    },
    {
     "name": "stderr",
     "output_type": "stream",
     "text": [
      "\n",
      "[notice] A new release of pip available: 22.3.1 -> 24.0\n",
      "[notice] To update, run: python.exe -m pip install --upgrade pip\n"
     ]
    },
    {
     "name": "stdout",
     "output_type": "stream",
     "text": [
      "Requirement already satisfied: scipy in c:\\users\\mathi\\appdata\\local\\programs\\python\\python311\\lib\\site-packages (1.11.4)\n",
      "Requirement already satisfied: numpy<1.28.0,>=1.21.6 in c:\\users\\mathi\\appdata\\local\\programs\\python\\python311\\lib\\site-packages (from scipy) (1.24.2)\n"
     ]
    },
    {
     "name": "stderr",
     "output_type": "stream",
     "text": [
      "\n",
      "[notice] A new release of pip available: 22.3.1 -> 24.0\n",
      "[notice] To update, run: python.exe -m pip install --upgrade pip\n"
     ]
    }
   ],
   "source": [
    "!py -m pip install numpy\n",
    "!py -m pip install scipy\n",
    "import numpy as np\n",
    "#from scipy.stats import norm\n",
    "from scipy.linalg import orthogonal_procrustes\n",
    "from MLE import MLE"
   ]
  },
  {
   "cell_type": "markdown",
   "metadata": {},
   "source": [
    "On définit les lois $\\pi_1$ et $\\pi_2$ :"
   ]
  },
  {
   "cell_type": "code",
   "execution_count": null,
   "metadata": {},
   "outputs": [],
   "source": [
    "def pi_1(Z, sigma=10):\n",
    "    '''\n",
    "    log de la loi à priori des Z (à une constante près)\n",
    "    '''\n",
    "    return np.sum(np.linalg.norm(Z)**2 / (2 * sigma**2))\n",
    "\n",
    "def pi_2(alpha, lamb=2):\n",
    "    '''\n",
    "    log de la loi à priori des alpha (à une constante près)\n",
    "    '''\n",
    "    return max(- lamb*alpha, 0)"
   ]
  },
  {
   "cell_type": "markdown",
   "metadata": {},
   "source": [
    "On définie le log de la probabilité d'acceptation :"
   ]
  },
  {
   "cell_type": "code",
   "execution_count": null,
   "metadata": {},
   "outputs": [],
   "source": [
    "def test_Z(alpha, Z_tilde, Z, Y, sigma=10):\n",
    "    \"\"\"\n",
    "    renvoie le log de probabilité d'acceptation pour Z\n",
    "    \"\"\"\n",
    "    test = 0\n",
    "    for i in range(len(Z)):\n",
    "        for j in range(len(Z)):\n",
    "            if i !=j:\n",
    "                eta = alpha - np.linalg.norm(Z[i]-Z[j])\n",
    "                eta_tilde = alpha - np.linalg.norm(Z_tilde[i]-Z_tilde[j])\n",
    "                test += Y[i][j]*eta_tilde-np.log(1+np.exp(eta_tilde))-Y[i][j]*eta-np.log(1+np.exp(eta))\n",
    "        test += pi_1(Z_tilde, sigma)-pi_1(Z, sigma)\n",
    "    return test\n",
    "\n",
    "def test_alpha(alpha_tilde, alpha, Z, Y, lamb=2):\n",
    "    \"\"\"\n",
    "    renvoie le log de probabilité d'acceptation pour alpha\n",
    "    \"\"\"\n",
    "    test = 0\n",
    "    for i in range(len(Z)):\n",
    "        for j in range(len(Z)):\n",
    "                if i != j:\n",
    "                    eta = alpha - np.linalg.norm(Z[i]-Z[j])\n",
    "                    eta_tilde = alpha_tilde - np.linalg.norm(Z[i]-Z[j])\n",
    "                    test += Y[i][j]*eta_tilde - np.log(1+np.exp(eta_tilde)) - Y[i][j]*eta - np.log(1+np.exp(eta))\n",
    "    test += pi_2(alpha_tilde) - pi_2(alpha)\n",
    "    return test"
   ]
  },
  {
   "cell_type": "markdown",
   "metadata": {},
   "source": [
    "On définie une fonction réalisant une étape de l'algorithme de Monte Carlo :"
   ]
  },
  {
   "cell_type": "code",
   "execution_count": null,
   "metadata": {},
   "outputs": [],
   "source": [
    "def MCMC(alpha, Z, Y, pas1=1, pas2=0.5, lamb=2, sigma=10):\n",
    "    \"\"\"\n",
    "    Cette fonction prend un couple (alpha,Z), et renvoie un nouveau couple (alpha,Z).\n",
    "    Le nouveau Z est tiré selon une loi normale centrée en Z, de variance pas1**2. Puis accepté, avec pour prior\n",
    "    la loi normale centrée, de variance sigma**2.\n",
    "    Le nouveau alpha est tiré selon une loi normale centrée en Z, de variance pas2**2. Puis accepté, avec pour prior\n",
    "    la loi exponentielle de paramètre lambda.\n",
    "    \"\"\"\n",
    "    Z_tilde = Z + np.random.normal(0, pas1, size=(Z.shape[0], Z.shape[1]))\n",
    "    Z_tilde = Z_tilde - np.mean(Z_tilde, axis=0)\n",
    "    T, d = orthogonal_procrustes(Z, Z_tilde)\n",
    "    Z_tilde = np.dot(Z_tilde, T)\n",
    "    test = test_Z(alpha, Z_tilde, Z, Y, sigma)\n",
    "    if np.random.random() < np.exp(test) :\n",
    "        Z = Z_tilde\n",
    "    alpha_tilde = alpha + np.random.normal(0, pas2)\n",
    "    test = test_alpha(alpha_tilde, alpha, Z, Y, lamb)\n",
    "    if np.random.random() < np.exp(test) : \n",
    "        alpha = alpha_tilde\n",
    "    return alpha, Z"
   ]
  }
 ],
 "metadata": {
  "kernelspec": {
   "display_name": "Python 3",
   "language": "python",
   "name": "python3"
  },
  "language_info": {
   "codemirror_mode": {
    "name": "ipython",
    "version": 3
   },
   "file_extension": ".py",
   "mimetype": "text/x-python",
   "name": "python",
   "nbconvert_exporter": "python",
   "pygments_lexer": "ipython3",
   "version": "3.11.2"
  }
 },
 "nbformat": 4,
 "nbformat_minor": 2
}
